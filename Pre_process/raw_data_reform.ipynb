{
 "cells": [
  {
   "cell_type": "code",
   "execution_count": 2,
   "metadata": {},
   "outputs": [],
   "source": [
    "# transfer the raw data to a standard form which the processed data can be dealed in the following process\n",
    "\n",
    "# environment:\n",
    "#    python 3.8\n",
    "#    pandas 2.0.0\n",
    "import pandas as pd\n",
    "import os\n"
   ]
  },
  {
   "cell_type": "code",
   "execution_count": 10,
   "metadata": {},
   "outputs": [
    {
     "name": "stdout",
     "output_type": "stream",
     "text": [
      "Gowalla_totalCheckins.txt\n",
      "\n",
      "BT_data_1w_remove.csv\n",
      "\n",
      "Brightkite_totalCheckins.txt\n",
      "\n",
      "Tdrive_allpoint.csv\n",
      "\n",
      "Geolife_allpoint.csv\n",
      "\n",
      "NYC_dataset_TSMC2014.csv\n",
      "\n"
     ]
    }
   ],
   "source": [
    "input_path = '../data/raw_data/'\n",
    "file_list = []\n",
    "for file in os.listdir(input_path):\n",
    "    print(file+'\\n')\n",
    "    file_list.append(file)"
   ]
  },
  {
   "cell_type": "code",
   "execution_count": 22,
   "metadata": {},
   "outputs": [
    {
     "name": "stdout",
     "output_type": "stream",
     "text": [
      "   userId             datetime        long         la\n",
      "0     135  2009-01-03 01:21:34  116.399741  39.974294\n",
      "1     135  2009-01-03 01:21:35  116.399592  39.974292\n",
      "2     135  2009-01-03 01:21:36  116.399523  39.974309\n",
      "3     135  2009-01-03 01:21:38  116.399588  39.974320\n",
      "4     135  2009-01-03 01:21:39  116.399730  39.974365\n",
      "records: 2883595\n",
      "n_user: 27\n",
      "##########\n",
      "records: 2512049\n",
      "n_user: 25\n",
      "n_POI: 6072\n",
      "time range: 2007-04-12 10:18:53 -- 2012-05-08 00:35:11\n"
     ]
    }
   ],
   "source": [
    "# for Tdrive and Geolife\n",
    "\n",
    "file = 'Geolife_allpoint.csv' #Tdrive_allpoint.csv or Geolife_allpoint.csv\n",
    "\n",
    "if file not in file_list:\n",
    "    print('please check the name of the file, and re-input the correct name')\n",
    "else:\n",
    "    #reading file\n",
    "    df=pd.read_csv(input_path+file,names=['userId','datetime','long','la'])\n",
    "    print(df.head())\n",
    "\n",
    "    #statistic of raw data\n",
    "    print('records:', len(df))\n",
    "    print('n_user:', df['userId'].nunique())\n",
    "    #print('n_POI:', df['poi'].nunique())\n",
    "    #df['datetime'] = df['datetime'].apply(pd.to_datetime, '%Y-%m-%d %H:%M:%S')\n",
    "    #print('time range:', min(df['datetime']), '--', max(df['datetime']))\n",
    "\n",
    "    # remove null\n",
    "    df.dropna(axis=0,inplace=True)\n",
    "\n",
    "    #remove the records which are not in Beijng GPS range(115<longitude<119, 39<latitude<42)\n",
    "    data = df[(df['long']>115) & (df['long']<119)]\n",
    "    data = df[(df['la']>39) & (df['la']<42)]\n",
    "\n",
    "\n",
    "    #reform and create POI from latitude and longitude\n",
    "    data=data[['userId','datetime','la','long']]\n",
    "    data['la']=data['la'].astype(str)\n",
    "    data['long']=data['long'].astype(str)\n",
    "    data['POI']=data.la.str[0:5]+''+data.long.str[0:6]\n",
    "    #data['POI']=data['POI'].str.replace(r'[^\\w\\s]+',')\n",
    "    data['POI']=data['POI'].str.replace('.','')\n",
    "    data.head()\n",
    "\n",
    "    #save reformed raw data for using in downstream\n",
    "    path = '/home/uqhshi1/word2vec_cbow/data/reformed_data/'\n",
    "    out_put = path + file.split('_',1)[0]+'_data.csv'\n",
    "\n",
    "    data.to_csv(out_put, index=False, header=None)\n",
    "\n",
    "     #statistic of pre-processed data\n",
    "    print('#'*10)\n",
    "    print('records:', len(data))\n",
    "    print('n_user:', data['userId'].nunique())\n",
    "    print('n_POI:', data['POI'].nunique())\n",
    "    print('time range:', min(data['datetime']), '--', max(data['datetime']))"
   ]
  },
  {
   "cell_type": "code",
   "execution_count": 8,
   "metadata": {},
   "outputs": [
    {
     "name": "stdout",
     "output_type": "stream",
     "text": [
      "records: 2242723\n",
      "n_user: 14106\n",
      "n_POI: 641398\n",
      "time range: 2009-02-04T05:17:38Z -- 2010-10-22T18:02:56Z\n",
      "##########\n",
      "records: 2242723\n",
      "n_user: 14106\n",
      "n_POI: 641398\n",
      "time range: 2009-02-04 05:17:38 -- 2010-10-22 18:02:56\n"
     ]
    }
   ],
   "source": [
    "# for Gowalla\n",
    "\n",
    "file = 'Gowalla_totalCheckins.txt'\n",
    "\n",
    "\n",
    "if file not in file_list:\n",
    "    print('please check the name of the file, and re-input the correct name')\n",
    "else:\n",
    "    #reading file\n",
    "    df=pd.read_csv(input_path+file,names=['userId','datetime','long','la', 'poi'], header=None,sep='\\t')\n",
    "\n",
    "    #statistic of raw data\n",
    "    print('records:', len(df))\n",
    "    print('n_user:', df['userId'].nunique())\n",
    "    print('n_POI:', df['poi'].nunique())\n",
    "    print('time range:', min(df['datetime']), '--', max(df['datetime']))\n",
    "\n",
    "    # remove null\n",
    "    df.dropna(axis=0,inplace=True)\n",
    "\n",
    "    #reform the datetime\n",
    "    df['datetime']=df['datetime'].str.replace('T',' ')\n",
    "    df['datetime']=df['datetime'].str.replace('Z','')\n",
    "\n",
    "    #save reformed raw data for using in downstream\n",
    "    path = '/home/uqhshi1/word2vec_cbow/data/reformed_data/'\n",
    "    out_put = path + file.split('_',1)[0]+'_data.csv'\n",
    "\n",
    "    df.to_csv(out_put, index=False, header=None)\n",
    "\n",
    "    #statistic of pre-processed data\n",
    "    print('#'*10)\n",
    "    print('records:', len(df))\n",
    "    print('n_user:', df['userId'].nunique())\n",
    "    print('n_POI:', df['poi'].nunique())\n",
    "    print('time range:', min(df['datetime']), '--', max(df['datetime']))"
   ]
  },
  {
   "cell_type": "code",
   "execution_count": 8,
   "metadata": {},
   "outputs": [
    {
     "name": "stdout",
     "output_type": "stream",
     "text": [
      "records: 1045378\n",
      "n_user: 2812\n",
      "n_POI: 183433\n",
      "time range: 2008-03-22T05:01:29Z -- 2010-10-18T10:15:25Z\n",
      "##########\n",
      "records: 1045378\n",
      "n_user: 2812\n",
      "n_POI: 183433\n",
      "time range: 2008-03-22 05:01:29 -- 2010-10-18 10:15:25\n"
     ]
    }
   ],
   "source": [
    "# for Brightkite\n",
    "\n",
    "file = 'Brightkite_totalCheckins.txt' \n",
    "\n",
    "\n",
    "if file not in file_list:\n",
    "    print('please check the name of the file, and re-input the correct name')\n",
    "else:\n",
    "    #reading file\n",
    "    df=pd.read_csv(input_path+file,names=['userId','datetime','long','la', 'poi'], header=None,sep='\\t')\n",
    "\n",
    "    #statistic of raw data\n",
    "    print('records:', len(df))\n",
    "    print('n_user:', df['userId'].nunique())\n",
    "    print('n_POI:', df['poi'].nunique())\n",
    "    print('time range:', min(df['datetime']), '--', max(df['datetime']))\n",
    "\n",
    "    # remove null\n",
    "    df.dropna(axis=0,inplace=True)\n",
    "\n",
    "    #reform the datetime\n",
    "    df['datetime']=df['datetime'].str.replace('T',' ')\n",
    "    df['datetime']=df['datetime'].str.replace('Z','')\n",
    "\n",
    "\n",
    "    #save reformed raw data for using in downstream\n",
    "    path = '/home/uqhshi1/word2vec_cbow/data/reformed_data/'\n",
    "    out_put = path + file.split('_',1)[0]+'_data.csv'\n",
    "\n",
    "    df.to_csv(out_put, index=False, header=None)\n",
    "    \n",
    "    #statistic of pre-processed data\n",
    "    print('#'*10)\n",
    "    print('records:', len(df))\n",
    "    print('n_user:', df['userId'].nunique())\n",
    "    print('n_POI:', df['poi'].nunique())\n",
    "    print('time range:', min(df['datetime']), '--', max(df['datetime']))\n"
   ]
  },
  {
   "cell_type": "code",
   "execution_count": null,
   "metadata": {},
   "outputs": [
    {
     "ename": "FileNotFoundError",
     "evalue": "[Errno 2] No such file or directory: '/home/uqhshi1/word2vec_cbow/data/reformed_data/BT_data_1w_remove.csv'",
     "output_type": "error",
     "traceback": [
      "\u001b[0;31m---------------------------------------------------------------------------\u001b[0m",
      "\u001b[0;31mFileNotFoundError\u001b[0m                         Traceback (most recent call last)",
      "Cell \u001b[0;32mIn[9], line 10\u001b[0m\n\u001b[1;32m      7\u001b[0m     \u001b[39mprint\u001b[39m(\u001b[39m'\u001b[39m\u001b[39mplease check the name of the file, and re-input the correct name\u001b[39m\u001b[39m'\u001b[39m)\n\u001b[1;32m      8\u001b[0m \u001b[39melse\u001b[39;00m:\n\u001b[1;32m      9\u001b[0m     \u001b[39m#reading file\u001b[39;00m\n\u001b[0;32m---> 10\u001b[0m     df\u001b[39m=\u001b[39mpd\u001b[39m.\u001b[39;49mread_csv(path\u001b[39m+\u001b[39;49mfile,names\u001b[39m=\u001b[39;49m[\u001b[39m'\u001b[39;49m\u001b[39muserId\u001b[39;49m\u001b[39m'\u001b[39;49m,\u001b[39m'\u001b[39;49m\u001b[39mdatetime\u001b[39;49m\u001b[39m'\u001b[39;49m,\u001b[39m'\u001b[39;49m\u001b[39mlong\u001b[39;49m\u001b[39m'\u001b[39;49m,\u001b[39m'\u001b[39;49m\u001b[39mla\u001b[39;49m\u001b[39m'\u001b[39;49m, \u001b[39m'\u001b[39;49m\u001b[39mpoi\u001b[39;49m\u001b[39m'\u001b[39;49m], header\u001b[39m=\u001b[39;49m\u001b[39mNone\u001b[39;49;00m,sep\u001b[39m=\u001b[39;49m\u001b[39m'\u001b[39;49m\u001b[39m,\u001b[39;49m\u001b[39m'\u001b[39;49m)\n\u001b[1;32m     12\u001b[0m     \u001b[39m#statistic of raw data\u001b[39;00m\n\u001b[1;32m     13\u001b[0m     \u001b[39mprint\u001b[39m(\u001b[39m'\u001b[39m\u001b[39mrecords:\u001b[39m\u001b[39m'\u001b[39m, \u001b[39mlen\u001b[39m(df))\n",
      "File \u001b[0;32m~/word2vec_cbow/.venv/lib/python3.8/site-packages/pandas/io/parsers/readers.py:912\u001b[0m, in \u001b[0;36mread_csv\u001b[0;34m(filepath_or_buffer, sep, delimiter, header, names, index_col, usecols, dtype, engine, converters, true_values, false_values, skipinitialspace, skiprows, skipfooter, nrows, na_values, keep_default_na, na_filter, verbose, skip_blank_lines, parse_dates, infer_datetime_format, keep_date_col, date_parser, date_format, dayfirst, cache_dates, iterator, chunksize, compression, thousands, decimal, lineterminator, quotechar, quoting, doublequote, escapechar, comment, encoding, encoding_errors, dialect, on_bad_lines, delim_whitespace, low_memory, memory_map, float_precision, storage_options, dtype_backend)\u001b[0m\n\u001b[1;32m    899\u001b[0m kwds_defaults \u001b[39m=\u001b[39m _refine_defaults_read(\n\u001b[1;32m    900\u001b[0m     dialect,\n\u001b[1;32m    901\u001b[0m     delimiter,\n\u001b[0;32m   (...)\u001b[0m\n\u001b[1;32m    908\u001b[0m     dtype_backend\u001b[39m=\u001b[39mdtype_backend,\n\u001b[1;32m    909\u001b[0m )\n\u001b[1;32m    910\u001b[0m kwds\u001b[39m.\u001b[39mupdate(kwds_defaults)\n\u001b[0;32m--> 912\u001b[0m \u001b[39mreturn\u001b[39;00m _read(filepath_or_buffer, kwds)\n",
      "File \u001b[0;32m~/word2vec_cbow/.venv/lib/python3.8/site-packages/pandas/io/parsers/readers.py:577\u001b[0m, in \u001b[0;36m_read\u001b[0;34m(filepath_or_buffer, kwds)\u001b[0m\n\u001b[1;32m    574\u001b[0m _validate_names(kwds\u001b[39m.\u001b[39mget(\u001b[39m\"\u001b[39m\u001b[39mnames\u001b[39m\u001b[39m\"\u001b[39m, \u001b[39mNone\u001b[39;00m))\n\u001b[1;32m    576\u001b[0m \u001b[39m# Create the parser.\u001b[39;00m\n\u001b[0;32m--> 577\u001b[0m parser \u001b[39m=\u001b[39m TextFileReader(filepath_or_buffer, \u001b[39m*\u001b[39;49m\u001b[39m*\u001b[39;49mkwds)\n\u001b[1;32m    579\u001b[0m \u001b[39mif\u001b[39;00m chunksize \u001b[39mor\u001b[39;00m iterator:\n\u001b[1;32m    580\u001b[0m     \u001b[39mreturn\u001b[39;00m parser\n",
      "File \u001b[0;32m~/word2vec_cbow/.venv/lib/python3.8/site-packages/pandas/io/parsers/readers.py:1407\u001b[0m, in \u001b[0;36mTextFileReader.__init__\u001b[0;34m(self, f, engine, **kwds)\u001b[0m\n\u001b[1;32m   1404\u001b[0m     \u001b[39mself\u001b[39m\u001b[39m.\u001b[39moptions[\u001b[39m\"\u001b[39m\u001b[39mhas_index_names\u001b[39m\u001b[39m\"\u001b[39m] \u001b[39m=\u001b[39m kwds[\u001b[39m\"\u001b[39m\u001b[39mhas_index_names\u001b[39m\u001b[39m\"\u001b[39m]\n\u001b[1;32m   1406\u001b[0m \u001b[39mself\u001b[39m\u001b[39m.\u001b[39mhandles: IOHandles \u001b[39m|\u001b[39m \u001b[39mNone\u001b[39;00m \u001b[39m=\u001b[39m \u001b[39mNone\u001b[39;00m\n\u001b[0;32m-> 1407\u001b[0m \u001b[39mself\u001b[39m\u001b[39m.\u001b[39m_engine \u001b[39m=\u001b[39m \u001b[39mself\u001b[39;49m\u001b[39m.\u001b[39;49m_make_engine(f, \u001b[39mself\u001b[39;49m\u001b[39m.\u001b[39;49mengine)\n",
      "File \u001b[0;32m~/word2vec_cbow/.venv/lib/python3.8/site-packages/pandas/io/parsers/readers.py:1661\u001b[0m, in \u001b[0;36mTextFileReader._make_engine\u001b[0;34m(self, f, engine)\u001b[0m\n\u001b[1;32m   1659\u001b[0m     \u001b[39mif\u001b[39;00m \u001b[39m\"\u001b[39m\u001b[39mb\u001b[39m\u001b[39m\"\u001b[39m \u001b[39mnot\u001b[39;00m \u001b[39min\u001b[39;00m mode:\n\u001b[1;32m   1660\u001b[0m         mode \u001b[39m+\u001b[39m\u001b[39m=\u001b[39m \u001b[39m\"\u001b[39m\u001b[39mb\u001b[39m\u001b[39m\"\u001b[39m\n\u001b[0;32m-> 1661\u001b[0m \u001b[39mself\u001b[39m\u001b[39m.\u001b[39mhandles \u001b[39m=\u001b[39m get_handle(\n\u001b[1;32m   1662\u001b[0m     f,\n\u001b[1;32m   1663\u001b[0m     mode,\n\u001b[1;32m   1664\u001b[0m     encoding\u001b[39m=\u001b[39;49m\u001b[39mself\u001b[39;49m\u001b[39m.\u001b[39;49moptions\u001b[39m.\u001b[39;49mget(\u001b[39m\"\u001b[39;49m\u001b[39mencoding\u001b[39;49m\u001b[39m\"\u001b[39;49m, \u001b[39mNone\u001b[39;49;00m),\n\u001b[1;32m   1665\u001b[0m     compression\u001b[39m=\u001b[39;49m\u001b[39mself\u001b[39;49m\u001b[39m.\u001b[39;49moptions\u001b[39m.\u001b[39;49mget(\u001b[39m\"\u001b[39;49m\u001b[39mcompression\u001b[39;49m\u001b[39m\"\u001b[39;49m, \u001b[39mNone\u001b[39;49;00m),\n\u001b[1;32m   1666\u001b[0m     memory_map\u001b[39m=\u001b[39;49m\u001b[39mself\u001b[39;49m\u001b[39m.\u001b[39;49moptions\u001b[39m.\u001b[39;49mget(\u001b[39m\"\u001b[39;49m\u001b[39mmemory_map\u001b[39;49m\u001b[39m\"\u001b[39;49m, \u001b[39mFalse\u001b[39;49;00m),\n\u001b[1;32m   1667\u001b[0m     is_text\u001b[39m=\u001b[39;49mis_text,\n\u001b[1;32m   1668\u001b[0m     errors\u001b[39m=\u001b[39;49m\u001b[39mself\u001b[39;49m\u001b[39m.\u001b[39;49moptions\u001b[39m.\u001b[39;49mget(\u001b[39m\"\u001b[39;49m\u001b[39mencoding_errors\u001b[39;49m\u001b[39m\"\u001b[39;49m, \u001b[39m\"\u001b[39;49m\u001b[39mstrict\u001b[39;49m\u001b[39m\"\u001b[39;49m),\n\u001b[1;32m   1669\u001b[0m     storage_options\u001b[39m=\u001b[39;49m\u001b[39mself\u001b[39;49m\u001b[39m.\u001b[39;49moptions\u001b[39m.\u001b[39;49mget(\u001b[39m\"\u001b[39;49m\u001b[39mstorage_options\u001b[39;49m\u001b[39m\"\u001b[39;49m, \u001b[39mNone\u001b[39;49;00m),\n\u001b[1;32m   1670\u001b[0m )\n\u001b[1;32m   1671\u001b[0m \u001b[39massert\u001b[39;00m \u001b[39mself\u001b[39m\u001b[39m.\u001b[39mhandles \u001b[39mis\u001b[39;00m \u001b[39mnot\u001b[39;00m \u001b[39mNone\u001b[39;00m\n\u001b[1;32m   1672\u001b[0m f \u001b[39m=\u001b[39m \u001b[39mself\u001b[39m\u001b[39m.\u001b[39mhandles\u001b[39m.\u001b[39mhandle\n",
      "File \u001b[0;32m~/word2vec_cbow/.venv/lib/python3.8/site-packages/pandas/io/common.py:859\u001b[0m, in \u001b[0;36mget_handle\u001b[0;34m(path_or_buf, mode, encoding, compression, memory_map, is_text, errors, storage_options)\u001b[0m\n\u001b[1;32m    854\u001b[0m \u001b[39melif\u001b[39;00m \u001b[39misinstance\u001b[39m(handle, \u001b[39mstr\u001b[39m):\n\u001b[1;32m    855\u001b[0m     \u001b[39m# Check whether the filename is to be opened in binary mode.\u001b[39;00m\n\u001b[1;32m    856\u001b[0m     \u001b[39m# Binary mode does not support 'encoding' and 'newline'.\u001b[39;00m\n\u001b[1;32m    857\u001b[0m     \u001b[39mif\u001b[39;00m ioargs\u001b[39m.\u001b[39mencoding \u001b[39mand\u001b[39;00m \u001b[39m\"\u001b[39m\u001b[39mb\u001b[39m\u001b[39m\"\u001b[39m \u001b[39mnot\u001b[39;00m \u001b[39min\u001b[39;00m ioargs\u001b[39m.\u001b[39mmode:\n\u001b[1;32m    858\u001b[0m         \u001b[39m# Encoding\u001b[39;00m\n\u001b[0;32m--> 859\u001b[0m         handle \u001b[39m=\u001b[39m \u001b[39mopen\u001b[39;49m(\n\u001b[1;32m    860\u001b[0m             handle,\n\u001b[1;32m    861\u001b[0m             ioargs\u001b[39m.\u001b[39;49mmode,\n\u001b[1;32m    862\u001b[0m             encoding\u001b[39m=\u001b[39;49mioargs\u001b[39m.\u001b[39;49mencoding,\n\u001b[1;32m    863\u001b[0m             errors\u001b[39m=\u001b[39;49merrors,\n\u001b[1;32m    864\u001b[0m             newline\u001b[39m=\u001b[39;49m\u001b[39m\"\u001b[39;49m\u001b[39m\"\u001b[39;49m,\n\u001b[1;32m    865\u001b[0m         )\n\u001b[1;32m    866\u001b[0m     \u001b[39melse\u001b[39;00m:\n\u001b[1;32m    867\u001b[0m         \u001b[39m# Binary mode\u001b[39;00m\n\u001b[1;32m    868\u001b[0m         handle \u001b[39m=\u001b[39m \u001b[39mopen\u001b[39m(handle, ioargs\u001b[39m.\u001b[39mmode)\n",
      "\u001b[0;31mFileNotFoundError\u001b[0m: [Errno 2] No such file or directory: '/home/uqhshi1/word2vec_cbow/data/reformed_data/BT_data_1w_remove.csv'"
     ]
    }
   ],
   "source": [
    "# for BT_w\n",
    "\n",
    "file = 'BT_data_1w_remove.csv' \n",
    "\n",
    "\n",
    "if file not in file_list:\n",
    "    print('please check the name of the file, and re-input the correct name')\n",
    "else:\n",
    "    #reading file\n",
    "    df=pd.read_csv(input_path+file,names=['userId','datetime','long','la', 'poi'], header=None,sep=',')\n",
    "\n",
    "    #statistic of raw data\n",
    "    print('records:', len(df))\n",
    "    print('n_user:', df['userId'].nunique())\n",
    "    print('n_POI:', df['poi'].nunique())\n",
    "    print('time range:', min(df['datetime']), '--', max(df['datetime']))\n",
    "\n",
    "    # remove null\n",
    "    df.dropna(axis=0,inplace=True)\n",
    "\n",
    "    #transform the form of poi_id\n",
    "\n",
    "\n",
    "    #save reformed raw data for using in downstream\n",
    "    path = '/home/uqhshi1/word2vec_cbow/data/reformed_data/'\n",
    "    out_put = path + file.split('_',1)[0]+'_data.csv'\n",
    "\n",
    "    df.to_csv(out_put, index=False, header=None)\n",
    "\n",
    "    #statistic of pre-processed data\n",
    "    print('#'*10)\n",
    "    print('records:', len(df))\n",
    "    print('n_user:', df['userId'].nunique())\n",
    "    print('n_POI:', df['poi'].nunique())\n",
    "    print('time range:', min(df['datetime']), '--', max(df['datetime']))"
   ]
  },
  {
   "cell_type": "code",
   "execution_count": 26,
   "metadata": {},
   "outputs": [
    {
     "name": "stdout",
     "output_type": "stream",
     "text": [
      "records: 227428\n",
      "n_user: 1083\n",
      "n_POI: 38333\n",
      "time range: Fri Apr 06 12:51:56 +0000 2012 -- Wed Sep 12 18:52:16 +0000 2012\n"
     ]
    },
    {
     "name": "stderr",
     "output_type": "stream",
     "text": [
      "/tmp/ipykernel_2113334/3657168647.py:25: UserWarning: The argument 'infer_datetime_format' is deprecated and will be removed in a future version. A strict version of it is now the default, see https://pandas.pydata.org/pdeps/0004-consistent-to-datetime-parsing.html. You can safely remove this argument.\n",
      "  df['datetime']=pd.to_datetime(df['datetime'], infer_datetime_format=True)\n",
      "/tmp/ipykernel_2113334/3657168647.py:25: UserWarning: Could not infer format, so each element will be parsed individually, falling back to `dateutil`. To ensure parsing is consistent and as-expected, please specify a format.\n",
      "  df['datetime']=pd.to_datetime(df['datetime'], infer_datetime_format=True)\n"
     ]
    },
    {
     "name": "stdout",
     "output_type": "stream",
     "text": [
      "##########\n",
      "records: 227428\n",
      "n_user: 1083\n",
      "n_POI: 38333\n",
      "time range: 2012-04-03 18:00:09 -- 2013-02-16 02:35:36\n"
     ]
    }
   ],
   "source": [
    "#for Foursquare_NewYork\n",
    "#userId,venueId,venueCategoryId,venueCategory,latitude,longitude,timezoneOffset,utcTimestamp#\n",
    "\n",
    "file = 'NYC_dataset_TSMC2014.csv' \n",
    "\n",
    "\n",
    "if file not in file_list:\n",
    "    print('please check the name of the file, and re-input the correct name')\n",
    "else:\n",
    "    #reading file\n",
    "    df=pd.read_csv(input_path+file,names=['userId','venueId', 'venueCategoryId', 'venueCategory','la','long','timezoneOffset', 'datetime'], skiprows=1,header=None,sep=',')\n",
    "\n",
    "    #statistic of raw data\n",
    "    print('records:', len(df))\n",
    "    print('n_user:', df['userId'].nunique())\n",
    "    print('n_POI:', df['venueId'].nunique())\n",
    "    print('time range:', min(df['datetime']), '--', max(df['datetime']))\n",
    "\n",
    "    # remove null\n",
    "    df.dropna(axis=0,inplace=True)\n",
    "\n",
    "    df= df[['userId','datetime','la','long','venueId']]\n",
    "\n",
    "    #Utctimestamp\n",
    "    df['datetime']=pd.to_datetime(df['datetime'], infer_datetime_format=True)\n",
    "    df['datetime']=df['datetime'].dt.tz_convert(None)\n",
    "\n",
    "    #save reformed raw data for using in downstream\n",
    "    path = '/home/uqhshi1/word2vec_cbow/data/reformed_data/'\n",
    "    out_put = path + file.split('_',1)[0]+'_data.csv'\n",
    "\n",
    "    df.to_csv(out_put, index=False, header=None)\n",
    "    \n",
    "    #statistic of pre-processed data\n",
    "    print('#'*10)\n",
    "    print('records:', len(df))\n",
    "    print('n_user:', df['userId'].nunique())\n",
    "    print('n_POI:', df['venueId'].nunique())\n",
    "    print('time range:', min(df['datetime']), '--', max(df['datetime']))"
   ]
  },
  {
   "cell_type": "code",
   "execution_count": null,
   "metadata": {},
   "outputs": [],
   "source": []
  }
 ],
 "metadata": {
  "kernelspec": {
   "display_name": ".venv",
   "language": "python",
   "name": "python3"
  },
  "language_info": {
   "codemirror_mode": {
    "name": "ipython",
    "version": 3
   },
   "file_extension": ".py",
   "mimetype": "text/x-python",
   "name": "python",
   "nbconvert_exporter": "python",
   "pygments_lexer": "ipython3",
   "version": "3.8.10"
  },
  "orig_nbformat": 4
 },
 "nbformat": 4,
 "nbformat_minor": 2
}
